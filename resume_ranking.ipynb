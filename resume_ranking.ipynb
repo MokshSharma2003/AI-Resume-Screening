{
    "cells": [
        {
            "cell_type": "markdown",
            "id": "93de6f99",
            "metadata": {},
            "source": []
        },
        {
            "cell_type": "code",
            "execution_count": null,
            "id": "9f0dfeef-9144-4fa5-aa3f-65fa3f0e3d7b",
            "metadata": {},
            "outputs": [],
            "source": [
                "import streamlit as st\n",
                "from PyPDF2 import PdfReader\n",
                "import pandas as pd\n",
                "from sklearn.feature_extraction.text import TfidfVectorizer\n",
                "from sklearn.metrics.pairwise import cosine_similarity\n"
            ]
        },
        {
            "cell_type": "code",
            "execution_count": null,
            "id": "adeaac88-5c56-4971-bb3f-59c4bbb60c4a",
            "metadata": {},
            "outputs": [],
            "source": [
                "# Function to extract text from PDF\n",
                "def extract_text_from_pdf(file):\n",
                "    pdf = PdfReader(file)\n",
                "    text = \"\"\n",
                "    for page in pdf.pages:\n",
                "        text += page.extract_text()\n",
                "    return text"
            ]
        },
        {
            "cell_type": "code",
            "execution_count": null,
            "id": "5346adba-c7be-43e0-8962-c8ea95db7c18",
            "metadata": {},
            "outputs": [],
            "source": [
                "# Function to metric applications based on job description\n",
                "\n",
                "\n",
                "def metric_applications(job_description, applications):\n",
                "    documents = [job_description] + applications  # Combine job description with resumes\n",
                "    vectorizer = TfidfVectorizer().fit_transform(documents)  # Convert text to numerical vectors\n",
                "    vectors = vectorizer.toarray()\n",
                "    \n",
                "    job_description_vector = vectors[0]  # First vector is the job description\n",
                "    application_vectors = vectors[1:]  # Remaining vectors are resumes\n",
                "    \n",
                "    cosine_similarities = cosine_similarity([job_description_vector], application_vectors).flatten()\n",
                "    \n",
                "    return cosine_similarities  # Return similarity scores for all resumes\n"
            ]
        },
        {
            "cell_type": "code",
            "execution_count": null,
            "id": "fe4f6753-d769-43c4-891a-4874d57ebdf6",
            "metadata": {},
            "outputs": [],
            "source": [
                "# Streamlit app\n",
                "st.title(\"AI Resume Screening & Candidate Ranking System\")\n",
                "# Job description input\n",
                "st.header(\"Job Description\")\n",
                "job_description= st.text_area (\"Enter the job description\")"
            ]
        },
        {
            "cell_type": "code",
            "execution_count": null,
            "id": "8b4202d6-4e09-4119-b1fd-9adb991b4ab5",
            "metadata": {},
            "outputs": [],
            "source": [
                "# File uploader\n",
                "st.header(\"Upload Resumes\")\n",
                "uploaded_files = st.file_uploader(\"Upload PDF files\", type=[\"pdf\"], accept_multiple_files=True)"
            ]
        },
        {
            "cell_type": "code",
            "execution_count": null,
            "id": "8e218fd3-19a8-4514-98bb-e5d6672df465",
            "metadata": {},
            "outputs": [],
            "source": [
                "if uploaded_files and job_description:\n",
                "    st.header(\"Ranking Resumes\")\n",
                "    \n",
                "    applications = []\n",
                "    for file in uploaded_files:\n",
                "        text = extract_text_from_pdf(file)\n",
                "        applications.append(text)\n",
                "\n",
                "    # Rank applications\n",
                "    metrics = metric_applications(job_description, applications)\n",
                "\n",
                "    # Display metrics\n",
                "    results = pd.DataFrame({\"Resume\": [file.name for file in uploaded_files], \"Score\": metric })\n",
                "    results = results.sort_values(by=\"Score\", ascending=False)\n",
                "    \n",
                "    st.write(results)"
            ]
        },
        {
            "cell_type": "code",
            "execution_count": null,
            "id": "36f4c751-0615-4257-9dd4-36253f1e31e9",
            "metadata": {},
            "outputs": [],
            "source": []
        }
    ],
    "metadata": {
        "kernelspec": {
            "display_name": "Python 3 (ipykernel)",
            "language": "python",
            "name": "python3"
        },
        "language_info": {
            "codemirror_mode": {
                "name": "ipython",
                "version": 3
            },
            "file_extension": ".py",
            "mimetype": "text/x-python",
            "name": "python",
            "nbconvert_exporter": "python",
            "pygments_lexer": "ipython3",
            "version": "3.12.8"
        }
    },
    "nbformat": 4,
    "nbformat_minor": 5
}
